{
  "nbformat": 4,
  "nbformat_minor": 0,
  "metadata": {
    "colab": {
      "provenance": []
    },
    "kernelspec": {
      "name": "python3",
      "display_name": "Python 3"
    },
    "language_info": {
      "name": "python"
    }
  },
  "cells": [
    {
      "cell_type": "code",
      "execution_count": 59,
      "metadata": {
        "id": "hCO4VNikUs3Q"
      },
      "outputs": [],
      "source": [
        "import pandas as pd\n",
        "from sklearn.model_selection import train_test_split\n",
        "from sklearn.preprocessing import LabelEncoder\n",
        "from sklearn.tree import DecisionTreeClassifier\n",
        "from sklearn.svm import SVC\n",
        "from sklearn.linear_model import LogisticRegression\n",
        "from sklearn.neural_network import MLPClassifier\n",
        "from sklearn.metrics import accuracy_score\n",
        "\n",
        "import chardet"
      ]
    },
    {
      "cell_type": "code",
      "source": [
        "# Detect the encoding of the file\n",
        "with open('/content/drive/MyDrive/Dataset/Indian-Name.csv', 'rb') as f:\n",
        "    result = chardet.detect(f.read())\n",
        "\n",
        "# Print the detected encoding\n",
        "print(result['encoding'])\n",
        "\n",
        "# Read the CSV file with the detected encoding\n",
        "df = pd.read_csv('/content/drive/MyDrive/Dataset/Indian-Name.csv', encoding=result['encoding'])"
      ],
      "metadata": {
        "colab": {
          "base_uri": "https://localhost:8080/"
        },
        "id": "uw63184bZsgY",
        "outputId": "4f170804-3b22-4bae-eb35-7cbdd7555db1"
      },
      "execution_count": 56,
      "outputs": [
        {
          "output_type": "stream",
          "name": "stdout",
          "text": [
            "ISO-8859-1\n"
          ]
        }
      ]
    },
    {
      "cell_type": "code",
      "source": [
        "# Separate features and target\n",
        "X = df['Name']\n",
        "y = df['Target']"
      ],
      "metadata": {
        "id": "nUh3Sxo_Zwv9"
      },
      "execution_count": 60,
      "outputs": []
    },
    {
      "cell_type": "code",
      "source": [
        "# Convert names to numerical features using LabelEncoder\n",
        "label_encoder = LabelEncoder()\n",
        "X_encoded = label_encoder.fit_transform(X)"
      ],
      "metadata": {
        "id": "qNzZd6wmZ2co"
      },
      "execution_count": 61,
      "outputs": []
    },
    {
      "cell_type": "code",
      "source": [
        "# Split the dataset into training and testing sets\n",
        "X_train, X_test, y_train, y_test = train_test_split(X_encoded, y, test_size=0.2, random_state=42)"
      ],
      "metadata": {
        "id": "eMI4V_hNZ6NP"
      },
      "execution_count": 62,
      "outputs": []
    },
    {
      "cell_type": "code",
      "source": [
        "# Decision Tree Classifier\n",
        "dt_classifier = DecisionTreeClassifier()\n",
        "dt_classifier.fit(X_train.reshape(-1, 1), y_train)\n",
        "dt_predictions = dt_classifier.predict(X_test.reshape(-1, 1))\n",
        "dt_accuracy = accuracy_score(y_test, dt_predictions)\n",
        "print(\"Decision Tree Accuracy:\", dt_accuracy)\n",
        "\n",
        "# Display predictions with names and targets\n",
        "dt_results = pd.DataFrame({'Name': label_encoder.inverse_transform(X_test), 'Target': y_test, 'Prediction': dt_predictions})\n",
        "print(\"Decision Tree Predictions:\")\n",
        "print(dt_results)"
      ],
      "metadata": {
        "colab": {
          "base_uri": "https://localhost:8080/"
        },
        "id": "jtiGnlGOaAWK",
        "outputId": "41e681f3-c7dd-4692-8c01-40d96d6bfb02"
      },
      "execution_count": 71,
      "outputs": [
        {
          "output_type": "stream",
          "name": "stdout",
          "text": [
            "Decision Tree Accuracy: 0.5884615384615385\n",
            "Decision Tree Predictions:\n",
            "         Name  Target  Prediction\n",
            "1231   Mrunal       0           1\n",
            "578    Muskan       0           0\n",
            "1164    Bobby       1           1\n",
            "722    Monali       0           1\n",
            "561     Hetul       1           0\n",
            "...       ...     ...         ...\n",
            "199   Ruchita       0           1\n",
            "671   Meghana       0           1\n",
            "1202    Meher       0           1\n",
            "1049    Avika       0           1\n",
            "10      Ronak       1           1\n",
            "\n",
            "[260 rows x 3 columns]\n"
          ]
        }
      ]
    },
    {
      "cell_type": "code",
      "source": [
        "# Support Vector Machine Classifier\n",
        "svm_classifier = SVC()\n",
        "svm_classifier.fit(X_train.reshape(-1, 1), y_train)\n",
        "svm_predictions = svm_classifier.predict(X_test.reshape(-1, 1))\n",
        "svm_accuracy = accuracy_score(y_test, svm_predictions)\n",
        "print(\"\\nSVM Accuracy:\", svm_accuracy)\n",
        "\n",
        "# Display predictions with names and targets\n",
        "svm_results = pd.DataFrame({'Name': label_encoder.inverse_transform(X_test), 'Target': y_test, 'Prediction': svm_predictions})\n",
        "print(\"SVM Predictions:\")\n",
        "print(svm_results)"
      ],
      "metadata": {
        "colab": {
          "base_uri": "https://localhost:8080/"
        },
        "id": "EewUag7xaGwX",
        "outputId": "c6f2fdab-74bc-4347-b4ae-308e0439f5fd"
      },
      "execution_count": 67,
      "outputs": [
        {
          "output_type": "stream",
          "name": "stdout",
          "text": [
            "\n",
            "SVM Accuracy: 0.5115384615384615\n",
            "SVM Predictions:\n",
            "         Name  Target  Prediction\n",
            "1231   Mrunal       0           0\n",
            "578    Muskan       0           0\n",
            "1164    Bobby       1           0\n",
            "722    Monali       0           0\n",
            "561     Hetul       1           0\n",
            "...       ...     ...         ...\n",
            "199   Ruchita       0           0\n",
            "671   Meghana       0           0\n",
            "1202    Meher       0           0\n",
            "1049    Avika       0           1\n",
            "10      Ronak       1           0\n",
            "\n",
            "[260 rows x 3 columns]\n"
          ]
        }
      ]
    },
    {
      "cell_type": "code",
      "source": [
        "# Logistic Regression Classifier\n",
        "lr_classifier = LogisticRegression()\n",
        "lr_classifier.fit(X_train.reshape(-1, 1), y_train)\n",
        "lr_predictions = lr_classifier.predict(X_test.reshape(-1, 1))\n",
        "lr_accuracy = accuracy_score(y_test, lr_predictions)\n",
        "print(\"\\nLogistic Regression Accuracy:\", lr_accuracy)\n",
        "\n",
        "# Display predictions with names and targets\n",
        "lr_results = pd.DataFrame({'Name': label_encoder.inverse_transform(X_test), 'Target': y_test, 'Prediction': lr_predictions})\n",
        "print(\"Logistic Regression Predictions:\")\n",
        "print(lr_results)"
      ],
      "metadata": {
        "id": "1XfgEsXsaI-S",
        "colab": {
          "base_uri": "https://localhost:8080/"
        },
        "outputId": "2a610c68-0deb-441c-92e4-e32aa6d70a07"
      },
      "execution_count": 68,
      "outputs": [
        {
          "output_type": "stream",
          "name": "stdout",
          "text": [
            "\n",
            "Logistic Regression Accuracy: 0.49230769230769234\n",
            "Logistic Regression Predictions:\n",
            "         Name  Target  Prediction\n",
            "1231   Mrunal       0           0\n",
            "578    Muskan       0           0\n",
            "1164    Bobby       1           0\n",
            "722    Monali       0           0\n",
            "561     Hetul       1           0\n",
            "...       ...     ...         ...\n",
            "199   Ruchita       0           0\n",
            "671   Meghana       0           0\n",
            "1202    Meher       0           0\n",
            "1049    Avika       0           0\n",
            "10      Ronak       1           0\n",
            "\n",
            "[260 rows x 3 columns]\n"
          ]
        }
      ]
    },
    {
      "cell_type": "code",
      "source": [
        "# Neural Network Classifier\n",
        "nn_classifier = MLPClassifier(hidden_layer_sizes=(100,), max_iter=1000)\n",
        "nn_classifier.fit(X_train.reshape(-1, 1), y_train)\n",
        "nn_predictions = nn_classifier.predict(X_test.reshape(-1, 1))\n",
        "nn_accuracy = accuracy_score(y_test, nn_predictions)\n",
        "print(\"\\nNeural Network Accuracy:\", nn_accuracy)\n",
        "\n",
        "# Display predictions with names and targets\n",
        "nn_results = pd.DataFrame({'Name': label_encoder.inverse_transform(X_test), 'Target': y_test, 'Prediction': nn_predictions})\n",
        "print(\"Neural Network Predictions:\")\n",
        "print(nn_results)"
      ],
      "metadata": {
        "colab": {
          "base_uri": "https://localhost:8080/"
        },
        "id": "RkPigRK21DCI",
        "outputId": "3947d8c5-c13d-4ecc-f07c-1dfaa7e6410f"
      },
      "execution_count": 69,
      "outputs": [
        {
          "output_type": "stream",
          "name": "stdout",
          "text": [
            "\n",
            "Neural Network Accuracy: 0.4846153846153846\n",
            "Neural Network Predictions:\n",
            "         Name  Target  Prediction\n",
            "1231   Mrunal       0           1\n",
            "578    Muskan       0           1\n",
            "1164    Bobby       1           1\n",
            "722    Monali       0           1\n",
            "561     Hetul       1           1\n",
            "...       ...     ...         ...\n",
            "199   Ruchita       0           1\n",
            "671   Meghana       0           1\n",
            "1202    Meher       0           1\n",
            "1049    Avika       0           0\n",
            "10      Ronak       1           1\n",
            "\n",
            "[260 rows x 3 columns]\n"
          ]
        }
      ]
    }
  ]
}